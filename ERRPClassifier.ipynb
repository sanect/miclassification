{
  "nbformat": 4,
  "nbformat_minor": 0,
  "metadata": {
    "colab": {
      "provenance": [],
      "include_colab_link": true
    },
    "kernelspec": {
      "name": "python3",
      "display_name": "Python 3"
    },
    "language_info": {
      "name": "python"
    },
    "accelerator": "GPU",
    "gpuClass": "standard"
  },
  "cells": [
    {
      "cell_type": "markdown",
      "metadata": {
        "id": "view-in-github",
        "colab_type": "text"
      },
      "source": [
        "<a href=\"https://colab.research.google.com/github/JuelGeorge/Adaptive_BCI_2D/blob/main/ERRPClassifier.ipynb\" target=\"_parent\"><img src=\"https://colab.research.google.com/assets/colab-badge.svg\" alt=\"Open In Colab\"/></a>"
      ]
    },
    {
      "cell_type": "markdown",
      "source": [
        "INITIAL CONFIGURATIONS"
      ],
      "metadata": {
        "id": "86XYZMy0R8ui"
      }
    },
    {
      "cell_type": "code",
      "execution_count": 8,
      "metadata": {
        "id": "qeeevXW9qpa3"
      },
      "outputs": [],
      "source": [
        "import tensorflow as tf\n",
        "import os\n",
        "import cv2\n",
        "import imghdr\n",
        "from matplotlib import pyplot as plt\n",
        "import numpy as np\n",
        "from tensorflow import keras\n",
        "from keras.layers import Dense\n",
        "from keras.models import Sequential, load_model\n",
        "from keras.layers import *\n",
        "\n",
        "gpus = tf.config.experimental.list_physical_devices('GPU')\n",
        "for gpu in gpus:\n",
        "  tf.config.experimental.set_memory_growth(gpu, True)"
      ]
    },
    {
      "cell_type": "markdown",
      "source": [
        "ALL RELATED TO IMAGE PROCESSING"
      ],
      "metadata": {
        "id": "7HDxRNmuSBPO"
      }
    },
    {
      "cell_type": "markdown",
      "source": [
        "CNN MODEL"
      ],
      "metadata": {
        "id": "UwSL5iwkDioO"
      }
    },
    {
      "cell_type": "code",
      "source": [
        "model = Sequential()\n",
        "\n",
        "model.add(Conv2D(16, (3,3), 1, activation='relu', input_shape=(256,256,3)))\n",
        "model.add(MaxPooling2D())\n",
        "\n",
        "model.add(Conv2D(32, (3,3), 1, activation='relu'))\n",
        "model.add(MaxPooling2D())\n",
        "\n",
        "model.add(Conv2D(16, (3,3), 1, activation='relu'))\n",
        "model.add(MaxPooling2D())\n",
        "\n",
        "model.add(Flatten())\n",
        "\n",
        "model.add(Dense(256, activation='relu'))\n",
        "model.add(Dense(1, activation='sigmoid'))"
      ],
      "metadata": {
        "id": "0BsDO-EJDkui"
      },
      "execution_count": 9,
      "outputs": []
    },
    {
      "cell_type": "code",
      "source": [
        "test = Sequential()\n",
        "\n",
        "test.add(InputLayer(input_shape=(64,128,1)))\n",
        "\n",
        "test.add(Conv2D(4, kernel_size=(4,8), strides=1,  activation='relu', padding='same'))\n",
        "test.add(BatchNormalization())\n",
        "test.add(Conv2D(8, kernel_size=(8,16), strides=1,  activation='relu', padding='same'))\n",
        "test.add(BatchNormalization())\n",
        "test.add(Conv2D(16, kernel_size=(16,32), strides=1,  activation='relu', padding='same'))\n",
        "test.add(BatchNormalization())\n",
        "test.add(Conv2D(32, kernel_size=(32,64), strides=1,  activation='relu', padding='same'))\n",
        "test.add(BatchNormalization())\n",
        "\n",
        "test.add(DepthwiseConv2D(kernel_size=(64,1), strides=(1,1), activation= 'relu', padding='valid', depth_multiplier=2))\n",
        "test.add(BatchNormalization())\n",
        "\n",
        "test.add(MaxPooling2D(pool_size=(1, 4), strides=4, padding='valid'))\n",
        "test.add(Dropout(0))\n",
        "test.add(SeparableConv2D(16,(1,4), activation='relu'))\n",
        " \n",
        "test.add(MaxPooling2D(pool_size=(1,8), strides=6, padding='valid'))\n",
        " \n",
        "test.add(Dropout(0))\n",
        " \n",
        "test.add(Flatten())  \n",
        " \n",
        "test.add(Dense(2))\n",
        " \n",
        "test.add(Dense( 2, activation='softmax'))\n",
        "\n",
        "\n"
      ],
      "metadata": {
        "id": "eUxuGeqSds8s"
      },
      "execution_count": 23,
      "outputs": []
    },
    {
      "cell_type": "code",
      "source": [
        "model.compile('adam', loss=tf.losses.BinaryCrossentropy(), metrics=['accuracy'])"
      ],
      "metadata": {
        "id": "-DtilYTy5C43"
      },
      "execution_count": 24,
      "outputs": []
    },
    {
      "cell_type": "code",
      "source": [
        "test.summary()"
      ],
      "metadata": {
        "id": "wN6YOCMu5VJp",
        "outputId": "ade8dbab-deb6-48f4-87b1-2317ab699895",
        "colab": {
          "base_uri": "https://localhost:8080/"
        }
      },
      "execution_count": 25,
      "outputs": [
        {
          "output_type": "stream",
          "name": "stdout",
          "text": [
            "Model: \"sequential_18\"\n",
            "_________________________________________________________________\n",
            " Layer (type)                Output Shape              Param #   \n",
            "=================================================================\n",
            " conv2d_70 (Conv2D)          (None, 64, 128, 4)        132       \n",
            "                                                                 \n",
            " batch_normalization_80 (Bat  (None, 64, 128, 4)       16        \n",
            " chNormalization)                                                \n",
            "                                                                 \n",
            " conv2d_71 (Conv2D)          (None, 64, 128, 8)        4104      \n",
            "                                                                 \n",
            " batch_normalization_81 (Bat  (None, 64, 128, 8)       32        \n",
            " chNormalization)                                                \n",
            "                                                                 \n",
            " conv2d_72 (Conv2D)          (None, 64, 128, 16)       65552     \n",
            "                                                                 \n",
            " batch_normalization_82 (Bat  (None, 64, 128, 16)      64        \n",
            " chNormalization)                                                \n",
            "                                                                 \n",
            " conv2d_73 (Conv2D)          (None, 64, 128, 32)       1048608   \n",
            "                                                                 \n",
            " batch_normalization_83 (Bat  (None, 64, 128, 32)      128       \n",
            " chNormalization)                                                \n",
            "                                                                 \n",
            " depthwise_conv2d_16 (Depthw  (None, 1, 128, 64)       4160      \n",
            " iseConv2D)                                                      \n",
            "                                                                 \n",
            " batch_normalization_84 (Bat  (None, 1, 128, 64)       256       \n",
            " chNormalization)                                                \n",
            "                                                                 \n",
            " max_pooling2d_23 (MaxPoolin  (None, 1, 32, 64)        0         \n",
            " g2D)                                                            \n",
            "                                                                 \n",
            " dropout_14 (Dropout)        (None, 1, 32, 64)         0         \n",
            "                                                                 \n",
            " separable_conv2d_6 (Separab  (None, 1, 29, 16)        1296      \n",
            " leConv2D)                                                       \n",
            "                                                                 \n",
            " max_pooling2d_24 (MaxPoolin  (None, 1, 4, 16)         0         \n",
            " g2D)                                                            \n",
            "                                                                 \n",
            " dropout_15 (Dropout)        (None, 1, 4, 16)          0         \n",
            "                                                                 \n",
            " flatten_7 (Flatten)         (None, 64)                0         \n",
            "                                                                 \n",
            " dense_13 (Dense)            (None, 2)                 130       \n",
            "                                                                 \n",
            " dense_14 (Dense)            (None, 2)                 6         \n",
            "                                                                 \n",
            "=================================================================\n",
            "Total params: 1,124,484\n",
            "Trainable params: 1,124,236\n",
            "Non-trainable params: 248\n",
            "_________________________________________________________________\n"
          ]
        }
      ]
    }
  ]
}