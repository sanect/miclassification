{
  "cells": [
    {
      "cell_type": "markdown",
      "metadata": {
        "id": "view-in-github",
        "colab_type": "text"
      },
      "source": [
        "<a href=\"https://colab.research.google.com/github/JuelGeorge/Adaptive_BCI_2D/blob/main/MI_Online.ipynb\" target=\"_parent\"><img src=\"https://colab.research.google.com/assets/colab-badge.svg\" alt=\"Open In Colab\"/></a>"
      ]
    },
    {
      "cell_type": "code",
      "execution_count": null,
      "metadata": {
        "id": "jP9XM88PJRqz"
      },
      "outputs": [],
      "source": [
        "while 1:\n",
        "  pass"
      ]
    },
    {
      "cell_type": "code",
      "execution_count": null,
      "metadata": {
        "id": "yaTiqWqM5Qx-"
      },
      "outputs": [],
      "source": [
        "import numpy as np\n",
        "import matplotlib.pyplot as plt\n",
        "import scipy.io\n",
        "from sklearn.metrics import accuracy_score, precision_score, recall_score, f1_score, confusion_matrix, classification_report"
      ]
    },
    {
      "cell_type": "code",
      "execution_count": null,
      "metadata": {
        "id": "WPE05ER1sY37"
      },
      "outputs": [],
      "source": [
        "data=np.load('/content/redoE1601223.npy')\n",
        "\n",
        "data_train=data[:200,:]\n",
        "data_val=data[200:400,:]\n",
        "data_test=data[400:,:]\n",
        "feat_train=data_train[:,:12]\n",
        "feat_val=data_val[:,:12]\n",
        "feat_test=data_test[:,:12]\n",
        "labels_train=data_train[:,12]\n",
        "labels_val=data_val[:,12]\n",
        "labels_test=data_test[:,12]"
      ]
    },
    {
      "cell_type": "code",
      "execution_count": null,
      "metadata": {
        "id": "oVr3mX3u-zu6"
      },
      "outputs": [],
      "source": [
        "n_left=len(np.where(labels_train==1)[0])\n",
        "n_right=len(np.where(labels_train==2)[0])"
      ]
    },
    {
      "cell_type": "code",
      "source": [
        "print(n_left)\n",
        "print(n_right)"
      ],
      "metadata": {
        "colab": {
          "base_uri": "https://localhost:8080/"
        },
        "id": "hBJQVklYkusn",
        "outputId": "58ed2bd9-a7e7-45ca-c4d9-1734c9caf759"
      },
      "execution_count": null,
      "outputs": [
        {
          "output_type": "stream",
          "name": "stdout",
          "text": [
            "108\n",
            "92\n"
          ]
        }
      ]
    },
    {
      "cell_type": "code",
      "execution_count": null,
      "metadata": {
        "id": "Ks_G862Xy6O0"
      },
      "outputs": [],
      "source": [
        "r_labels_train=list()\n",
        "for i in labels_train:\n",
        "  if(i==1):\n",
        "    r_labels_train.append([0,1])\n",
        "  else:\n",
        "    r_labels_train.append([1,0])\n",
        "r_labels_train=np.array(r_labels_train)"
      ]
    },
    {
      "cell_type": "code",
      "execution_count": null,
      "metadata": {
        "id": "7SEn-_fm_XFY"
      },
      "outputs": [],
      "source": [
        "r_labels_test=list()\n",
        "for i in labels_test:\n",
        "  if(i==1):\n",
        "    r_labels_test.append([0,1])\n",
        "  else:\n",
        "    r_labels_test.append([1,0])\n",
        "r_labels_test=np.array(r_labels_test)"
      ]
    },
    {
      "cell_type": "code",
      "execution_count": null,
      "metadata": {
        "id": "LYv7axc3Eyt2"
      },
      "outputs": [],
      "source": [
        "r_labels_val=list()\n",
        "for i in labels_val:\n",
        "  if(i==1):\n",
        "    r_labels_val.append([0,1])\n",
        "  else:\n",
        "    r_labels_val.append([1,0])\n",
        "r_labels_val=np.array(r_labels_val)"
      ]
    },
    {
      "cell_type": "code",
      "execution_count": null,
      "metadata": {
        "id": "coaQA9e_OEn6"
      },
      "outputs": [],
      "source": [
        "import tensorflow as tf\n",
        "from tensorflow import keras\n",
        "from keras.models import Sequential, load_model\n",
        "from keras.layers import *\n",
        "\n",
        "#gpus = tf.config.experimental.list_physical_devices('GPU')\n",
        "#for gpu in gpus:\n",
        "  #tf.config.experimental.set_memory_growth(gpu, True)"
      ]
    },
    {
      "cell_type": "code",
      "execution_count": null,
      "metadata": {
        "id": "MGQ3P-dG0EN4"
      },
      "outputs": [],
      "source": [
        "tf.config.run_functions_eagerly(True)"
      ]
    },
    {
      "cell_type": "code",
      "execution_count": null,
      "metadata": {
        "id": "416G433F-r5t"
      },
      "outputs": [],
      "source": [
        "offline_model = Sequential()\n",
        "normalizer = tf.keras.layers.Normalization(axis=-1)\n",
        "normalizer.adapt(feat_train)\n",
        "reg = tf.keras.regularizers.L2(l2=0.01)\n",
        "offline_model.add(InputLayer(input_shape=(12)))\n",
        "offline_model.add(normalizer)\n",
        "#Stage 1\n",
        "offline_model.add(Dense(10,activation='relu'))\n",
        "offline_model.add(Dropout(0.2))\n",
        "#Stage 2\n",
        "offline_model.add(Dense(10,activation='relu'))\n",
        "offline_model.add(Dropout(0.2))\n",
        "\n",
        "\n",
        "#Stage 3\n",
        "offline_model.add(Dense(10,activation='relu'))\n",
        "offline_model.add(Dropout(0.2))\n",
        "\n",
        "\n",
        "#Stage 4\n",
        "#offline_model.add(Dense(100,activation='relu'))\n",
        "#offline_model.add(Dense(100,activation='relu'))\n",
        "#offline_model.add(Dense(100,activation='relu'))\n",
        "\n",
        "#model.add(Dropout(0.1))\n",
        "\n",
        "\n",
        "#Stage 5\n",
        "offline_model.add(Dense(units=2,activation='softmax'))"
      ]
    },
    {
      "cell_type": "code",
      "execution_count": null,
      "metadata": {
        "colab": {
          "base_uri": "https://localhost:8080/"
        },
        "id": "ZKluZfJHEX35",
        "outputId": "5831e083-7a30-4afc-a796-d529ad33446f"
      },
      "outputs": [
        {
          "output_type": "stream",
          "name": "stdout",
          "text": [
            "Epoch 1/50\n",
            "20/20 [==============================] - 3s 63ms/step - loss: 0.6991 - accuracy: 0.5400 - val_loss: 0.7362 - val_accuracy: 0.4854\n",
            "Epoch 2/50\n",
            "20/20 [==============================] - 0s 6ms/step - loss: 0.7033 - accuracy: 0.5350 - val_loss: 0.7294 - val_accuracy: 0.4951\n",
            "Epoch 3/50\n",
            "20/20 [==============================] - 0s 6ms/step - loss: 0.7089 - accuracy: 0.5250 - val_loss: 0.7224 - val_accuracy: 0.5049\n",
            "Epoch 4/50\n",
            "20/20 [==============================] - 0s 6ms/step - loss: 0.6769 - accuracy: 0.6050 - val_loss: 0.7188 - val_accuracy: 0.5049\n",
            "Epoch 5/50\n",
            "20/20 [==============================] - 0s 6ms/step - loss: 0.7062 - accuracy: 0.5500 - val_loss: 0.7146 - val_accuracy: 0.5146\n",
            "Epoch 6/50\n",
            "20/20 [==============================] - 0s 8ms/step - loss: 0.6722 - accuracy: 0.6100 - val_loss: 0.7112 - val_accuracy: 0.5340\n",
            "Epoch 7/50\n",
            "20/20 [==============================] - 0s 6ms/step - loss: 0.6912 - accuracy: 0.5600 - val_loss: 0.7082 - val_accuracy: 0.5340\n",
            "Epoch 8/50\n",
            "20/20 [==============================] - 0s 6ms/step - loss: 0.6825 - accuracy: 0.5700 - val_loss: 0.7038 - val_accuracy: 0.5534\n",
            "Epoch 9/50\n",
            "20/20 [==============================] - 0s 8ms/step - loss: 0.6690 - accuracy: 0.6100 - val_loss: 0.7009 - val_accuracy: 0.5534\n",
            "Epoch 10/50\n",
            "20/20 [==============================] - 0s 6ms/step - loss: 0.6741 - accuracy: 0.6050 - val_loss: 0.6983 - val_accuracy: 0.5631\n",
            "Epoch 11/50\n",
            "20/20 [==============================] - 0s 6ms/step - loss: 0.6745 - accuracy: 0.6000 - val_loss: 0.6963 - val_accuracy: 0.5728\n",
            "Epoch 12/50\n",
            "20/20 [==============================] - 0s 6ms/step - loss: 0.6804 - accuracy: 0.5950 - val_loss: 0.6925 - val_accuracy: 0.5825\n",
            "Epoch 13/50\n",
            "20/20 [==============================] - 0s 6ms/step - loss: 0.6641 - accuracy: 0.6150 - val_loss: 0.6888 - val_accuracy: 0.5922\n",
            "Epoch 14/50\n",
            "20/20 [==============================] - 0s 5ms/step - loss: 0.6597 - accuracy: 0.6500 - val_loss: 0.6864 - val_accuracy: 0.6019\n",
            "Epoch 15/50\n",
            "20/20 [==============================] - 0s 8ms/step - loss: 0.6635 - accuracy: 0.5850 - val_loss: 0.6838 - val_accuracy: 0.6019\n",
            "Epoch 16/50\n",
            "20/20 [==============================] - 0s 6ms/step - loss: 0.6433 - accuracy: 0.6300 - val_loss: 0.6820 - val_accuracy: 0.6214\n",
            "Epoch 17/50\n",
            "20/20 [==============================] - 1s 77ms/step - loss: 0.6426 - accuracy: 0.6400 - val_loss: 0.6790 - val_accuracy: 0.6214\n",
            "Epoch 18/50\n",
            "20/20 [==============================] - 0s 6ms/step - loss: 0.6514 - accuracy: 0.6250 - val_loss: 0.6759 - val_accuracy: 0.6214\n",
            "Epoch 19/50\n",
            "20/20 [==============================] - 0s 6ms/step - loss: 0.6338 - accuracy: 0.6300 - val_loss: 0.6725 - val_accuracy: 0.6311\n",
            "Epoch 20/50\n",
            "20/20 [==============================] - 0s 6ms/step - loss: 0.6421 - accuracy: 0.6500 - val_loss: 0.6690 - val_accuracy: 0.6408\n",
            "Epoch 21/50\n",
            "20/20 [==============================] - 0s 8ms/step - loss: 0.6577 - accuracy: 0.6000 - val_loss: 0.6665 - val_accuracy: 0.6408\n",
            "Epoch 22/50\n",
            "20/20 [==============================] - 0s 8ms/step - loss: 0.6241 - accuracy: 0.6950 - val_loss: 0.6634 - val_accuracy: 0.6408\n",
            "Epoch 23/50\n",
            "20/20 [==============================] - 0s 6ms/step - loss: 0.6353 - accuracy: 0.6300 - val_loss: 0.6594 - val_accuracy: 0.6408\n",
            "Epoch 24/50\n",
            "20/20 [==============================] - 0s 5ms/step - loss: 0.6132 - accuracy: 0.7100 - val_loss: 0.6568 - val_accuracy: 0.6311\n",
            "Epoch 25/50\n",
            "20/20 [==============================] - 0s 6ms/step - loss: 0.6058 - accuracy: 0.6500 - val_loss: 0.6523 - val_accuracy: 0.6311\n",
            "Epoch 26/50\n",
            "20/20 [==============================] - 0s 6ms/step - loss: 0.6011 - accuracy: 0.7300 - val_loss: 0.6498 - val_accuracy: 0.6311\n",
            "Epoch 27/50\n",
            "20/20 [==============================] - 0s 5ms/step - loss: 0.6055 - accuracy: 0.7150 - val_loss: 0.6473 - val_accuracy: 0.6311\n",
            "Epoch 28/50\n",
            "20/20 [==============================] - 0s 8ms/step - loss: 0.6016 - accuracy: 0.6900 - val_loss: 0.6440 - val_accuracy: 0.6408\n",
            "Epoch 29/50\n",
            "20/20 [==============================] - 0s 6ms/step - loss: 0.5936 - accuracy: 0.6800 - val_loss: 0.6397 - val_accuracy: 0.6408\n",
            "Epoch 30/50\n",
            "20/20 [==============================] - 0s 8ms/step - loss: 0.5756 - accuracy: 0.6850 - val_loss: 0.6367 - val_accuracy: 0.6602\n",
            "Epoch 31/50\n",
            "20/20 [==============================] - 0s 6ms/step - loss: 0.5593 - accuracy: 0.7150 - val_loss: 0.6336 - val_accuracy: 0.6602\n",
            "Epoch 32/50\n",
            "20/20 [==============================] - 0s 6ms/step - loss: 0.5599 - accuracy: 0.7300 - val_loss: 0.6319 - val_accuracy: 0.6699\n",
            "Epoch 33/50\n",
            "20/20 [==============================] - 0s 6ms/step - loss: 0.5370 - accuracy: 0.7300 - val_loss: 0.6270 - val_accuracy: 0.6699\n",
            "Epoch 34/50\n",
            "20/20 [==============================] - 0s 6ms/step - loss: 0.5081 - accuracy: 0.8150 - val_loss: 0.6206 - val_accuracy: 0.6699\n",
            "Epoch 35/50\n",
            "20/20 [==============================] - 0s 6ms/step - loss: 0.5579 - accuracy: 0.7500 - val_loss: 0.6149 - val_accuracy: 0.6699\n",
            "Epoch 36/50\n",
            "20/20 [==============================] - 1s 50ms/step - loss: 0.5496 - accuracy: 0.7250 - val_loss: 0.6060 - val_accuracy: 0.6796\n",
            "Epoch 37/50\n",
            "20/20 [==============================] - 0s 10ms/step - loss: 0.5415 - accuracy: 0.7200 - val_loss: 0.6004 - val_accuracy: 0.6796\n",
            "Epoch 38/50\n",
            "20/20 [==============================] - 0s 9ms/step - loss: 0.5516 - accuracy: 0.7150 - val_loss: 0.5955 - val_accuracy: 0.6699\n",
            "Epoch 39/50\n",
            "20/20 [==============================] - 0s 8ms/step - loss: 0.5301 - accuracy: 0.7150 - val_loss: 0.5900 - val_accuracy: 0.6699\n",
            "Epoch 40/50\n",
            "20/20 [==============================] - 0s 6ms/step - loss: 0.5131 - accuracy: 0.7700 - val_loss: 0.5878 - val_accuracy: 0.6699\n",
            "Epoch 41/50\n",
            "20/20 [==============================] - 0s 6ms/step - loss: 0.5024 - accuracy: 0.7650 - val_loss: 0.5803 - val_accuracy: 0.6893\n",
            "Epoch 42/50\n",
            "20/20 [==============================] - 0s 6ms/step - loss: 0.4885 - accuracy: 0.7550 - val_loss: 0.5732 - val_accuracy: 0.6990\n",
            "Epoch 43/50\n",
            "20/20 [==============================] - 0s 7ms/step - loss: 0.5117 - accuracy: 0.7550 - val_loss: 0.5685 - val_accuracy: 0.6990\n",
            "Epoch 44/50\n",
            "20/20 [==============================] - 0s 9ms/step - loss: 0.4906 - accuracy: 0.7850 - val_loss: 0.5742 - val_accuracy: 0.6990\n",
            "Epoch 45/50\n",
            "20/20 [==============================] - 0s 6ms/step - loss: 0.4887 - accuracy: 0.7750 - val_loss: 0.5719 - val_accuracy: 0.7087\n",
            "Epoch 46/50\n",
            "20/20 [==============================] - 0s 6ms/step - loss: 0.4617 - accuracy: 0.8100 - val_loss: 0.5708 - val_accuracy: 0.6990\n",
            "Epoch 47/50\n",
            "20/20 [==============================] - 0s 5ms/step - loss: 0.4979 - accuracy: 0.7600 - val_loss: 0.5687 - val_accuracy: 0.7087\n",
            "Epoch 48/50\n",
            "20/20 [==============================] - 0s 6ms/step - loss: 0.4724 - accuracy: 0.7850 - val_loss: 0.5605 - val_accuracy: 0.7087\n",
            "Epoch 49/50\n",
            "20/20 [==============================] - 0s 6ms/step - loss: 0.4441 - accuracy: 0.7850 - val_loss: 0.5610 - val_accuracy: 0.7282\n",
            "Epoch 50/50\n",
            "20/20 [==============================] - 0s 6ms/step - loss: 0.4582 - accuracy: 0.7850 - val_loss: 0.5614 - val_accuracy: 0.7184\n"
          ]
        }
      ],
      "source": [
        "opt = tf.keras.optimizers.experimental.Adam(learning_rate=0.0005)\n",
        "offline_model.compile(opt, loss=tf.losses.BinaryCrossentropy(), metrics=['accuracy'])\n",
        "history_offline=offline_model.fit(feat_train,r_labels_train, batch_size = 10, epochs = 50,validation_data=(feat_test,r_labels_test))"
      ]
    },
    {
      "cell_type": "code",
      "execution_count": null,
      "metadata": {
        "id": "LefwgnqdIVOU",
        "colab": {
          "base_uri": "https://localhost:8080/"
        },
        "outputId": "8d6dfc87-1447-47e7-b3a3-f847d629f88f"
      },
      "outputs": [
        {
          "output_type": "stream",
          "name": "stderr",
          "text": [
            "UsageError: Line magic function `%75` not found.\n"
          ]
        }
      ],
      "source": [
        "%75 percent accuracte\n",
        "opt = tf.keras.optimizers.experimental.Adam(learning_rate=0.0001)\n",
        "model.compile(opt, loss=tf.losses.BinaryCrossentropy(), metrics=['accuracy'])\n",
        "history=model.fit(feat_train,r_labels_train, batch_size = 20, epochs = 200,validation_data=(feat_test,r_labels_test))"
      ]
    },
    {
      "cell_type": "markdown",
      "source": [
        "Train results on set 1."
      ],
      "metadata": {
        "id": "pBiZOHLFMpm5"
      }
    },
    {
      "cell_type": "code",
      "execution_count": null,
      "metadata": {
        "colab": {
          "base_uri": "https://localhost:8080/"
        },
        "id": "6p3zW6XZYcRa",
        "outputId": "90353538-cbb1-4224-90e5-272f579d2465"
      },
      "outputs": [
        {
          "output_type": "stream",
          "name": "stdout",
          "text": [
            "7/7 [==============================] - 0s 2ms/step\n"
          ]
        }
      ],
      "source": [
        "eventsPred = offline_model.predict(feat_train)\n",
        "eventsClasses = np.argmax(eventsPred,axis=1)"
      ]
    },
    {
      "cell_type": "code",
      "execution_count": null,
      "metadata": {
        "id": "Uv6qHuQfJ-9H"
      },
      "outputs": [],
      "source": [
        "eventsClasses_true = np.argmax(r_labels_train,axis=1)"
      ]
    },
    {
      "cell_type": "code",
      "execution_count": null,
      "metadata": {
        "id": "MUO1LAKiKVYk"
      },
      "outputs": [],
      "source": [
        "acc=accuracy_score(eventsClasses_true,eventsClasses)\n",
        "pre=precision_score(eventsClasses_true,eventsClasses)\n",
        "rec=recall_score(eventsClasses_true,eventsClasses)"
      ]
    },
    {
      "cell_type": "markdown",
      "source": [
        "Training results set1"
      ],
      "metadata": {
        "id": "jPAs51TRNAFb"
      }
    },
    {
      "cell_type": "code",
      "execution_count": null,
      "metadata": {
        "colab": {
          "base_uri": "https://localhost:8080/"
        },
        "id": "FJ6FDEWIKykR",
        "outputId": "26808a08-f328-42d4-f343-bc7bdcbe7613"
      },
      "outputs": [
        {
          "output_type": "stream",
          "name": "stdout",
          "text": [
            "0.85\n",
            "0.8333333333333334\n",
            "0.8333333333333334\n"
          ]
        }
      ],
      "source": [
        "print(acc)\n",
        "print(pre)\n",
        "print(rec)"
      ]
    },
    {
      "cell_type": "code",
      "execution_count": null,
      "metadata": {
        "id": "4ad-ZDQ87D91"
      },
      "outputs": [],
      "source": [
        "def plot_loss(history):\n",
        "  plt.plot(history.history['loss'], label='loss')\n",
        "  plt.plot(history.history['accuracy'],label='accuracy')\n",
        "  plt.plot(history.history['val_loss'], label='val_loss')\n",
        "  plt.plot(history.history['val_accuracy'],label='val_accuracy')\n",
        "  plt.xlabel('Epoch')\n",
        "  plt.ylabel('Error')\n",
        "  plt.legend()\n",
        "  plt.grid(True)"
      ]
    },
    {
      "cell_type": "code",
      "execution_count": null,
      "metadata": {
        "colab": {
          "base_uri": "https://localhost:8080/",
          "height": 449
        },
        "id": "5Hgw1mGBQjZC",
        "outputId": "140dc6fe-8ac8-4d17-9372-1b210bb23c7b"
      },
      "outputs": [
        {
          "output_type": "display_data",
          "data": {
            "text/plain": [
              "<Figure size 640x480 with 1 Axes>"
            ],
            "image/png": "[encoded data removed]"
          },
          "metadata": {}
        }
      ],
      "source": [
        "plot_loss(history_offline)"
      ]
    },
    {
      "cell_type": "code",
      "execution_count": null,
      "metadata": {
        "colab": {
          "base_uri": "https://localhost:8080/"
        },
        "id": "aUjONnTxLXG0",
        "outputId": "3f9e8ebd-4e25-40a7-a69b-9bd34a4d12a0"
      },
      "outputs": [
        {
          "output_type": "stream",
          "name": "stdout",
          "text": [
            "4/4 [==============================] - 2s 519ms/step\n"
          ]
        }
      ],
      "source": [
        "eventsPred_test = offline_model.predict(feat_test)\n",
        "eventsClasses_test = np.argmax(eventsPred_test,axis=1)\n",
        "eventsClasses_true_test = np.argmax(r_labels_test,axis=1)\n",
        "acc=accuracy_score(eventsClasses_true_test,eventsClasses_test)\n",
        "pre=precision_score(eventsClasses_true_test,eventsClasses_test)\n",
        "rec=recall_score(eventsClasses_true_test,eventsClasses_test)"
      ]
    },
    {
      "cell_type": "code",
      "execution_count": null,
      "metadata": {
        "colab": {
          "base_uri": "https://localhost:8080/"
        },
        "id": "mZ1wdupwLjHm",
        "outputId": "889b58d6-e643-429c-906a-060662d143d1"
      },
      "outputs": [
        {
          "output_type": "stream",
          "name": "stdout",
          "text": [
            "0.7184466019417476\n",
            "0.7692307692307693\n",
            "0.6\n"
          ]
        }
      ],
      "source": [
        "print(acc)\n",
        "print(pre)\n",
        "print(rec)"
      ]
    },
    {
      "cell_type": "markdown",
      "source": [
        "Post online training"
      ],
      "metadata": {
        "id": "hqzXhzDvxjFE"
      }
    },
    {
      "cell_type": "code",
      "source": [
        "eventsPred_test = offline_model.predict(feat_test)\n",
        "eventsClasses_test = np.argmax(eventsPred_test,axis=1)\n",
        "eventsClasses_true_test = np.argmax(r_labels_test,axis=1)\n",
        "acc=accuracy_score(eventsClasses_true_test,eventsClasses_test)\n",
        "pre=precision_score(eventsClasses_true_test,eventsClasses_test)\n",
        "rec=recall_score(eventsClasses_true_test,eventsClasses_test)"
      ],
      "metadata": {
        "colab": {
          "base_uri": "https://localhost:8080/"
        },
        "id": "8DVoSHm3saGp",
        "outputId": "177d28a3-f992-4a93-f0f0-e7dc2c2f33cb"
      },
      "execution_count": null,
      "outputs": [
        {
          "output_type": "stream",
          "name": "stdout",
          "text": [
            "4/4 [==============================] - 0s 3ms/step\n"
          ]
        }
      ]
    },
    {
      "cell_type": "code",
      "source": [
        "print(acc)\n",
        "print(pre)\n",
        "print(rec)"
      ],
      "metadata": {
        "colab": {
          "base_uri": "https://localhost:8080/"
        },
        "id": "zmaz9E2Zse9V",
        "outputId": "8bd8cd94-f0aa-46b3-92a8-704ef9a0e04d"
      },
      "execution_count": null,
      "outputs": [
        {
          "output_type": "stream",
          "name": "stdout",
          "text": [
            "0.8155339805825242\n",
            "0.8444444444444444\n",
            "0.76\n"
          ]
        }
      ]
    },
    {
      "cell_type": "code",
      "source": [
        "loss_fn=tf.losses.BinaryCrossentropy()\n"
      ],
      "metadata": {
        "id": "DbhkccT9JbM6"
      },
      "execution_count": null,
      "outputs": []
    },
    {
      "cell_type": "code",
      "source": [
        "batch_size=1\n",
        "online_train_dataset = tf.data.Dataset.from_tensor_slices((feat_val,r_labels_val))\n",
        "online_train_dataset=online_train_dataset.batch(batch_size)"
      ],
      "metadata": {
        "id": "T0LjweMLLwLH"
      },
      "execution_count": null,
      "outputs": []
    },
    {
      "cell_type": "code",
      "source": [
        "def modify_label(x):\n",
        "  if (x==[0,1]).all():\n",
        "    x=[1,0]\n",
        "  else: \n",
        "    x=[0,1]\n",
        "  return np.array(x)\n"
      ],
      "metadata": {
        "id": "RiRc7iR8QLZz"
      },
      "execution_count": null,
      "outputs": []
    },
    {
      "cell_type": "code",
      "source": [
        "import random"
      ],
      "metadata": {
        "id": "UTombkMzUmxB"
      },
      "execution_count": null,
      "outputs": []
    },
    {
      "cell_type": "code",
      "source": [
        "for s, (f,l) in enumerate(online_train_dataset):\n",
        "  print(s,f,l)"
      ],
      "metadata": {
        "id": "r83o2F0nnqvG"
      },
      "execution_count": null,
      "outputs": []
    },
    {
      "cell_type": "code",
      "source": [
        "epochs = 50\n",
        "epoch_acc=[]\n",
        "\n",
        "for epoch in range(epochs):\n",
        "    print(\"\\nStart of epoch %d\" % (epoch,))\n",
        "\n",
        "    # Iterate over the batches of the dataset.\n",
        "    c=0\n",
        "    mc=0\n",
        "    for step, (f,l) in enumerate(online_train_dataset):\n",
        "            \n",
        "        rn=random.uniform(0,1)\n",
        "        # Open a GradientTape to record the operations run\n",
        "        # during the forward pass, which enables auto-differentiation.\n",
        "        with tf.GradientTape() as tape:\n",
        "        \n",
        "            # Run the forward pass of the layer.\n",
        "            # The operations that the layer applies\n",
        "            # to its inputs are going to be recorded\n",
        "            # on the GradientTape.\n",
        "            logits = offline_model(f, training=True)  # Logits for this minibatch\n",
        "            pred_label=np.argmax(logits)\n",
        "            act_label=np.argmax(np.array(l))\n",
        "            if act_label==pred_label:\n",
        "             c+=1\n",
        "             if rn<= 0.8:\n",
        "             # Compute the loss value for this minibatch.\n",
        "             \n",
        "               loss_value = loss_fn(tf.reshape(l,(1,2)), logits)\n",
        "               grads = tape.gradient(loss_value, offline_model.trainable_weights)\n",
        "               opt.apply_gradients(zip(grads, offline_model.trainable_weights))\n",
        "             else:\n",
        "               l_mod=tf.convert_to_tensor(modify_label(np.array(l)))\n",
        "               loss_value = loss_fn(tf.reshape(l_mod,(1,2)), logits)\n",
        "               grads = tape.gradient(loss_value, offline_model.trainable_weights)\n",
        "               opt.apply_gradients(zip(grads, offline_model.trainable_weights))\n",
        "            else:\n",
        "              mc+=1\n",
        "              if rn<= 0.9:\n",
        "             # Compute the loss value for this minibatch.\n",
        "             \n",
        "               loss_value = loss_fn(tf.reshape(l,(1,2)), logits)\n",
        "               grads = tape.gradient(loss_value, offline_model.trainable_weights)\n",
        "               opt.apply_gradients(zip(grads, offline_model.trainable_weights))\n",
        "              else:\n",
        "               l_mod=tf.convert_to_tensor(modify_label(np.array(l)))\n",
        "               loss_value = loss_fn(tf.reshape(l_mod,(1,2)), logits)\n",
        "               grads = tape.gradient(loss_value, offline_model.trainable_weights)\n",
        "               opt.apply_gradients(zip(grads, offline_model.trainable_weights))\n",
        "    eventsPred_test = offline_model.predict(feat_test)\n",
        "    eventsClasses_test = np.argmax(eventsPred_test,axis=1)\n",
        "    eventsClasses_true_test = np.argmax(r_labels_test,axis=1)\n",
        "    acc=accuracy_score(eventsClasses_true_test,eventsClasses_test)\n",
        "    epoch_acc.append(acc)  \n",
        "    print(\"epoch acc\",(float(acc)))\n",
        "      "
      ],
      "metadata": {
        "colab": {
          "base_uri": "https://localhost:8080/"
        },
        "id": "CDYSzf1uKMBw",
        "outputId": "b5d70f59-48a4-49e9-e45b-4731e3c49fec"
      },
      "execution_count": null,
      "outputs": [
        {
          "output_type": "stream",
          "name": "stdout",
          "text": [
            "\n",
            "Start of epoch 0\n"
          ]
        },
        {
          "output_type": "stream",
          "name": "stderr",
          "text": [
            "WARNING:tensorflow:5 out of the last 5 calls to <function _BaseOptimizer._update_step_xla at 0x7f9178711280> triggered tf.function retracing. Tracing is expensive and the excessive number of tracings could be due to (1) creating @tf.function repeatedly in a loop, (2) passing tensors with different shapes, (3) passing Python objects instead of tensors. For (1), please define your @tf.function outside of the loop. For (2), @tf.function has reduce_retracing=True option that can avoid unnecessary retracing. For (3), please refer to https://www.tensorflow.org/guide/function#controlling_retracing and https://www.tensorflow.org/api_docs/python/tf/function for  more details.\n",
            "WARNING:tensorflow:6 out of the last 6 calls to <function _BaseOptimizer._update_step_xla at 0x7f9178711280> triggered tf.function retracing. Tracing is expensive and the excessive number of tracings could be due to (1) creating @tf.function repeatedly in a loop, (2) passing tensors with different shapes, (3) passing Python objects instead of tensors. For (1), please define your @tf.function outside of the loop. For (2), @tf.function has reduce_retracing=True option that can avoid unnecessary retracing. For (3), please refer to https://www.tensorflow.org/guide/function#controlling_retracing and https://www.tensorflow.org/api_docs/python/tf/function for  more details.\n"
          ]
        },
        {
          "output_type": "stream",
          "name": "stdout",
          "text": [
            "4/4 [==============================] - 1s 328ms/step\n",
            "epoch acc 0.7961165048543689\n",
            "\n",
            "Start of epoch 1\n",
            "4/4 [==============================] - 0s 3ms/step\n",
            "epoch acc 0.8058252427184466\n",
            "\n",
            "Start of epoch 2\n",
            "4/4 [==============================] - 0s 105ms/step\n",
            "epoch acc 0.8058252427184466\n",
            "\n",
            "Start of epoch 3\n",
            "4/4 [==============================] - 0s 101ms/step\n",
            "epoch acc 0.7961165048543689\n",
            "\n",
            "Start of epoch 4\n",
            "4/4 [==============================] - 0s 51ms/step\n",
            "epoch acc 0.7961165048543689\n",
            "\n",
            "Start of epoch 5\n",
            "4/4 [==============================] - 0s 4ms/step\n",
            "epoch acc 0.8058252427184466\n",
            "\n",
            "Start of epoch 6\n",
            "4/4 [==============================] - 1s 244ms/step\n",
            "epoch acc 0.7766990291262136\n",
            "\n",
            "Start of epoch 7\n",
            "4/4 [==============================] - 0s 3ms/step\n",
            "epoch acc 0.7766990291262136\n",
            "\n",
            "Start of epoch 8\n",
            "4/4 [==============================] - 0s 3ms/step\n",
            "epoch acc 0.7864077669902912\n",
            "\n",
            "Start of epoch 9\n",
            "4/4 [==============================] - 0s 28ms/step\n",
            "epoch acc 0.7864077669902912\n",
            "\n",
            "Start of epoch 10\n",
            "4/4 [==============================] - 0s 34ms/step\n",
            "epoch acc 0.7961165048543689\n",
            "\n",
            "Start of epoch 11\n",
            "4/4 [==============================] - 0s 3ms/step\n",
            "epoch acc 0.7961165048543689\n",
            "\n",
            "Start of epoch 12\n",
            "4/4 [==============================] - 0s 3ms/step\n",
            "epoch acc 0.7961165048543689\n",
            "\n",
            "Start of epoch 13\n",
            "4/4 [==============================] - 0s 3ms/step\n",
            "epoch acc 0.7961165048543689\n",
            "\n",
            "Start of epoch 14\n",
            "4/4 [==============================] - 1s 185ms/step\n",
            "epoch acc 0.7961165048543689\n",
            "\n",
            "Start of epoch 15\n",
            "4/4 [==============================] - 0s 3ms/step\n",
            "epoch acc 0.7961165048543689\n",
            "\n",
            "Start of epoch 16\n",
            "4/4 [==============================] - 0s 87ms/step\n",
            "epoch acc 0.8058252427184466\n",
            "\n",
            "Start of epoch 17\n",
            "4/4 [==============================] - 0s 138ms/step\n",
            "epoch acc 0.7961165048543689\n",
            "\n",
            "Start of epoch 18\n",
            "4/4 [==============================] - 1s 268ms/step\n",
            "epoch acc 0.7864077669902912\n",
            "\n",
            "Start of epoch 19\n",
            "4/4 [==============================] - 1s 282ms/step\n",
            "epoch acc 0.8058252427184466\n",
            "\n",
            "Start of epoch 20\n",
            "4/4 [==============================] - 1s 274ms/step\n",
            "epoch acc 0.7961165048543689\n",
            "\n",
            "Start of epoch 21\n",
            "4/4 [==============================] - 1s 273ms/step\n",
            "epoch acc 0.7961165048543689\n",
            "\n",
            "Start of epoch 22\n",
            "4/4 [==============================] - 0s 3ms/step\n",
            "epoch acc 0.7961165048543689\n",
            "\n",
            "Start of epoch 23\n",
            "4/4 [==============================] - 0s 5ms/step\n",
            "epoch acc 0.7961165048543689\n",
            "\n",
            "Start of epoch 24\n",
            "4/4 [==============================] - 0s 3ms/step\n",
            "epoch acc 0.7961165048543689\n",
            "\n",
            "Start of epoch 25\n",
            "4/4 [==============================] - 0s 3ms/step\n",
            "epoch acc 0.7961165048543689\n",
            "\n",
            "Start of epoch 26\n",
            "4/4 [==============================] - 0s 3ms/step\n",
            "epoch acc 0.7961165048543689\n",
            "\n",
            "Start of epoch 27\n",
            "4/4 [==============================] - 0s 123ms/step\n",
            "epoch acc 0.7961165048543689\n",
            "\n",
            "Start of epoch 28\n",
            "4/4 [==============================] - 0s 131ms/step\n",
            "epoch acc 0.7961165048543689\n",
            "\n",
            "Start of epoch 29\n",
            "4/4 [==============================] - 0s 5ms/step\n",
            "epoch acc 0.7961165048543689\n",
            "\n",
            "Start of epoch 30\n",
            "4/4 [==============================] - 0s 6ms/step\n",
            "epoch acc 0.7961165048543689\n",
            "\n",
            "Start of epoch 31\n",
            "4/4 [==============================] - 1s 248ms/step\n",
            "epoch acc 0.7961165048543689\n",
            "\n",
            "Start of epoch 32\n",
            "4/4 [==============================] - 0s 3ms/step\n",
            "epoch acc 0.7961165048543689\n",
            "\n",
            "Start of epoch 33\n",
            "4/4 [==============================] - 0s 3ms/step\n",
            "epoch acc 0.7961165048543689\n",
            "\n",
            "Start of epoch 34\n",
            "4/4 [==============================] - 0s 101ms/step\n",
            "epoch acc 0.8058252427184466\n",
            "\n",
            "Start of epoch 35\n",
            "4/4 [==============================] - 1s 184ms/step\n",
            "epoch acc 0.8155339805825242\n",
            "\n",
            "Start of epoch 36\n",
            "4/4 [==============================] - 0s 3ms/step\n",
            "epoch acc 0.7961165048543689\n",
            "\n",
            "Start of epoch 37\n",
            "4/4 [==============================] - 1s 252ms/step\n",
            "epoch acc 0.8155339805825242\n",
            "\n",
            "Start of epoch 38\n",
            "4/4 [==============================] - 0s 3ms/step\n",
            "epoch acc 0.8058252427184466\n",
            "\n",
            "Start of epoch 39\n",
            "4/4 [==============================] - 0s 4ms/step\n",
            "epoch acc 0.7961165048543689\n",
            "\n",
            "Start of epoch 40\n",
            "4/4 [==============================] - 0s 7ms/step\n",
            "epoch acc 0.7961165048543689\n",
            "\n",
            "Start of epoch 41\n",
            "4/4 [==============================] - 0s 3ms/step\n",
            "epoch acc 0.7961165048543689\n",
            "\n",
            "Start of epoch 42\n",
            "4/4 [==============================] - 0s 109ms/step\n",
            "epoch acc 0.8058252427184466\n",
            "\n",
            "Start of epoch 43\n",
            "4/4 [==============================] - 0s 3ms/step\n",
            "epoch acc 0.8155339805825242\n",
            "\n",
            "Start of epoch 44\n",
            "4/4 [==============================] - 0s 3ms/step\n",
            "epoch acc 0.7961165048543689\n",
            "\n",
            "Start of epoch 45\n",
            "4/4 [==============================] - 0s 3ms/step\n",
            "epoch acc 0.7961165048543689\n",
            "\n",
            "Start of epoch 46\n",
            "4/4 [==============================] - 0s 55ms/step\n",
            "epoch acc 0.8155339805825242\n",
            "\n",
            "Start of epoch 47\n",
            "4/4 [==============================] - 0s 140ms/step\n",
            "epoch acc 0.8155339805825242\n",
            "\n",
            "Start of epoch 48\n",
            "4/4 [==============================] - 0s 51ms/step\n",
            "epoch acc 0.8155339805825242\n",
            "\n",
            "Start of epoch 49\n",
            "4/4 [==============================] - 0s 3ms/step\n",
            "epoch acc 0.8155339805825242\n"
          ]
        }
      ]
    },
    {
      "cell_type": "code",
      "source": [
        "plt.ylim=(0.71)\n",
        "plt.plot(epoch_acc,label='Accuracy')\n",
        "plt.xlabel('Epoch')\n",
        "plt.ylabel('Accuracy')\n",
        "plt.legend()\n",
        "plt.show()"
      ],
      "metadata": {
        "colab": {
          "base_uri": "https://localhost:8080/",
          "height": 449
        },
        "id": "U2kM6wJNMss0",
        "outputId": "bd225340-914a-4ea1-aabc-45a125139658"
      },
      "execution_count": null,
      "outputs": [
        {
          "output_type": "display_data",
          "data": {
            "text/plain": [
              "<Figure size 640x480 with 1 Axes>"
            ],
            "image/png": "[encoded data removed]"
          },
          "metadata": {}
        }
      ]
    },
    {
      "cell_type": "code",
      "source": [],
      "metadata": {
        "id": "aOMSC1Rd1xzM"
      },
      "execution_count": null,
      "outputs": []
    }
  ],
  "metadata": {
    "accelerator": "GPU",
    "colab": {
      "provenance": [],
      "include_colab_link": true
    },
    "gpuClass": "standard",
    "kernelspec": {
      "display_name": "Python 3",
      "name": "python3"
    },
    "language_info": {
      "name": "python"
    }
  },
  "nbformat": 4,
  "nbformat_minor": 0
}